{
 "cells": [
  {
   "cell_type": "code",
   "execution_count": 28,
   "metadata": {},
   "outputs": [],
   "source": [
    "import mdtraj as md\n",
    "import numpy as np\n",
    "import matplotlib.pyplot as plt\n",
    "import seaborn as sns\n",
    "import pandas as pd\n",
    "import json"
   ]
  },
  {
   "cell_type": "code",
   "execution_count": 36,
   "metadata": {},
   "outputs": [],
   "source": [
    "#load crystal structure and alpha fold predicted structures\n",
    "crystal = md.load('../Inputs/1ubq.pdb')\n",
    "rank_0_AF = md.load('../Results/rcsb_pdb_1UBQ/ranked_0.pdb')\n",
    "rank_1_AF = md.load('../Results/rcsb_pdb_1UBQ/ranked_1.pdb')\n",
    "rank_2_AF = md.load('../Results/rcsb_pdb_1UBQ/ranked_2.pdb')\n",
    "rank_3_AF = md.load('../Results/rcsb_pdb_1UBQ/ranked_3.pdb')\n",
    "rank_4_AF = md.load('../Results/rcsb_pdb_1UBQ/ranked_4.pdb')\n",
    "\n",
    "rank_1_C = md.load('../Results/1ubq_colab/test_7686d_unrelaxed_rank_1_model_4.pdb')\n",
    "rank_2_C = md.load('../Results/1ubq_colab/test_7686d_unrelaxed_rank_2_model_3.pdb')\n",
    "rank_3_C = md.load('../Results/1ubq_colab/test_7686d_unrelaxed_rank_3_model_2.pdb')\n",
    "rank_4_C = md.load('../Results/1ubq_colab/test_7686d_unrelaxed_rank_4_model_1.pdb')\n",
    "rank_5_C = md.load('../Results/1ubq_colab/test_7686d_unrelaxed_rank_5_model_5.pdb')\n"
   ]
  },
  {
   "cell_type": "code",
   "execution_count": 37,
   "metadata": {},
   "outputs": [],
   "source": [
    "select_1 = 'name CA'\n",
    "select_2 = 'backbone'\n",
    "select_3 = 'sidechain and not (index ==1000)'"
   ]
  },
  {
   "cell_type": "code",
   "execution_count": 65,
   "metadata": {},
   "outputs": [],
   "source": [
    "pdb_crystal = crystal.superpose(crystal, 0, atom_indices=pdb_crystal.top.select(select_1))\n",
    "pdb_AF_0 = rank_0_AF.superpose(pdb_crystal, 0, atom_indices=pdb_crystal.top.select(select_1))   \n",
    "pdb_AF_1 = rank_1_AF.superpose(pdb_crystal, 0, atom_indices=pdb_crystal.top.select(select_1))\n",
    "pdb_AF_2 = rank_2_AF.superpose(pdb_crystal, 0, atom_indices=pdb_crystal.top.select(select_1))\n",
    "pdb_AF_3 = rank_3_AF.superpose(pdb_crystal, 0, atom_indices=pdb_crystal.top.select(select_1))\n",
    "pdb_AF_4 = rank_4_AF.superpose(pdb_crystal, 0, atom_indices=pdb_crystal.top.select(select_1))\n"
   ]
  },
  {
   "cell_type": "code",
   "execution_count": 68,
   "metadata": {},
   "outputs": [],
   "source": [
    "#calculate RMSD on CA atoms\n",
    "rmsd_AF_0_CA = md.rmsd(pdb_crystal, pdb_AF_0, 0, atom_indices=pdb_crystal.top.select(select_1))\n",
    "rmsd_AF_1_CA = md.rmsd(pdb_crystal, pdb_AF_1, 0, atom_indices=pdb_crystal.top.select(select_1))\n",
    "rmsd_AF_2_CA = md.rmsd(pdb_crystal, pdb_AF_2, 0, atom_indices=pdb_crystal.top.select(select_1))\n",
    "rmsd_AF_3_CA = md.rmsd(pdb_crystal, pdb_AF_3, 0, atom_indices=pdb_crystal.top.select(select_1))\n",
    "rmsd_AF_4_CA = md.rmsd(pdb_crystal, pdb_AF_4, 0, atom_indices=pdb_crystal.top.select(select_1))\n",
    "\n",
    "\n",
    "#calculate RMSD on backbone\n",
    "rmsd_AF_0_BB = md.rmsd(pdb_crystal, pdb_AF_0, 0, atom_indices=pdb_crystal.top.select(select_2))\n",
    "rmsd_AF_1_BB = md.rmsd(pdb_crystal, pdb_AF_1, 0, atom_indices=pdb_crystal.top.select(select_2))\n",
    "rmsd_AF_2_BB = md.rmsd(pdb_crystal, pdb_AF_2, 0, atom_indices=pdb_crystal.top.select(select_2))\n",
    "rmsd_AF_3_BB = md.rmsd(pdb_crystal, pdb_AF_3, 0, atom_indices=pdb_crystal.top.select(select_2))\n",
    "rmsd_AF_4_BB = md.rmsd(pdb_crystal, pdb_AF_4, 0, atom_indices=pdb_crystal.top.select(select_2))\n",
    "\n",
    "#calculate RMSD on sidechain\n",
    "rmsd_AF_0_SC = md.rmsd(pdb_crystal, pdb_AF_0, 0, atom_indices=pdb_crystal.top.select(select_3))\n",
    "rmsd_AF_1_SC = md.rmsd(pdb_crystal, pdb_AF_1, 0, atom_indices=pdb_crystal.top.select(select_3))\n",
    "rmsd_AF_2_SC = md.rmsd(pdb_crystal, pdb_AF_2, 0, atom_indices=pdb_crystal.top.select(select_3))\n",
    "rmsd_AF_3_SC = md.rmsd(pdb_crystal, pdb_AF_3, 0, atom_indices=pdb_crystal.top.select(select_3))\n",
    "rmsd_AF_4_SC = md.rmsd(pdb_crystal, pdb_AF_4, 0, atom_indices=pdb_crystal.top.select(select_3))\n"
   ]
  },
  {
   "cell_type": "code",
   "execution_count": 70,
   "metadata": {},
   "outputs": [
    {
     "name": "stdout",
     "output_type": "stream",
     "text": [
      "RMSD on CA\n",
      "AlphaFold:  [1.3107917]\n",
      "AlphaFold:  [1.3093824]\n",
      "AlphaFold:  [1.3071252]\n",
      "AlphaFold:  [1.3117588]\n",
      "AlphaFold:  [1.312007]\n"
     ]
    }
   ],
   "source": [
    "#print RMSD on CA\n",
    "print('RMSD on CA')\n",
    "print('AlphaFold: ', rmsd_AF_0_CA)\n",
    "print('AlphaFold: ', rmsd_AF_1_CA)\n",
    "print('AlphaFold: ', rmsd_AF_2_CA)\n",
    "print('AlphaFold: ', rmsd_AF_3_CA)\n",
    "print('AlphaFold: ', rmsd_AF_4_CA)\n"
   ]
  },
  {
   "cell_type": "code",
   "execution_count": 71,
   "metadata": {},
   "outputs": [
    {
     "name": "stdout",
     "output_type": "stream",
     "text": [
      "RMSD on backbone\n",
      "AlphaFold:  [1.2953882]\n",
      "AlphaFold:  [1.2960018]\n",
      "AlphaFold:  [1.2963324]\n",
      "AlphaFold:  [1.2936474]\n",
      "AlphaFold:  [1.2944708]\n"
     ]
    }
   ],
   "source": [
    "#print RMSD on backbone\n",
    "print('RMSD on backbone')\n",
    "print('AlphaFold: ', rmsd_AF_0_BB)\n",
    "print('AlphaFold: ', rmsd_AF_1_BB)\n",
    "print('AlphaFold: ', rmsd_AF_2_BB)\n",
    "print('AlphaFold: ', rmsd_AF_3_BB)\n",
    "print('AlphaFold: ', rmsd_AF_4_BB)\n",
    "\n",
    "\n"
   ]
  },
  {
   "cell_type": "code",
   "execution_count": 72,
   "metadata": {},
   "outputs": [
    {
     "name": "stdout",
     "output_type": "stream",
     "text": [
      "RMSD on sidechain\n",
      "AlphaFold:  [1.3007962]\n",
      "AlphaFold:  [1.3014579]\n",
      "AlphaFold:  [1.3008133]\n",
      "AlphaFold:  [1.300391]\n",
      "AlphaFold:  [1.3030275]\n"
     ]
    }
   ],
   "source": [
    "#print RMSD on sidechain\n",
    "print('RMSD on sidechain')\n",
    "print('AlphaFold: ', rmsd_AF_0_SC)\n",
    "print('AlphaFold: ', rmsd_AF_1_SC)\n",
    "print('AlphaFold: ', rmsd_AF_2_SC)\n",
    "print('AlphaFold: ', rmsd_AF_3_SC)\n",
    "print('AlphaFold: ', rmsd_AF_4_SC)\n"
   ]
  },
  {
   "cell_type": "code",
   "execution_count": 75,
   "metadata": {},
   "outputs": [
    {
     "data": {
      "text/plain": [
       "Text(0.5, 1.0, 'RMSD on CA atoms')"
      ]
     },
     "execution_count": 75,
     "metadata": {},
     "output_type": "execute_result"
    },
    {
     "data": {
      "image/png": "[encoded data removed]",
      "text/plain": [
       "<Figure size 1000x600 with 1 Axes>"
      ]
     },
     "metadata": {},
     "output_type": "display_data"
    }
   ],
   "source": [
    "#plot bar plot of rmsd on CA atoms\n",
    "plt.figure(figsize=(10, 6))\n",
    "data = [1.3107917,1.3093824, 1.3071252, 1.3117588, 1.312007]\n",
    "labels = ['AlphaFold_0', 'AlphaFold_1', 'AlphaFold_2', 'AlphaFold_3', 'AlphaFold_4']\n",
    "plt.bar(labels, data, color='blue')\n",
    "plt.title('RMSD on CA atoms')\n"
   ]
  },
  {
   "cell_type": "code",
   "execution_count": 73,
   "metadata": {},
   "outputs": [
    {
     "data": {
      "text/plain": [
       "<BarContainer object of 5 artists>"
      ]
     },
     "execution_count": 73,
     "metadata": {},
     "output_type": "execute_result"
    },
    {
     "data": {
      "image/png": "[encoded data removed]",
      "text/plain": [
       "<Figure size 1000x600 with 1 Axes>"
      ]
     },
     "metadata": {},
     "output_type": "display_data"
    }
   ],
   "source": [
    "#plot RMSD on backbone\n",
    "plt.figure(figsize=(10, 6))\n",
    "data = [1.3107917,1.3093824, 1.3071252, 1.3117588, 1.312007]\n",
    "labels = ['AlphaFold_0', 'AlphaFold_1', 'AlphaFold_2', 'AlphaFold_3', 'AlphaFold_4']\n",
    "plt.bar(labels, data, color='blue')\n"
   ]
  },
  {
   "cell_type": "code",
   "execution_count": 74,
   "metadata": {},
   "outputs": [
    {
     "data": {
      "text/plain": [
       "<BarContainer object of 5 artists>"
      ]
     },
     "execution_count": 74,
     "metadata": {},
     "output_type": "execute_result"
    },
    {
     "data": {
      "image/png": "[encoded data removed]",
      "text/plain": [
       "<Figure size 1000x600 with 1 Axes>"
      ]
     },
     "metadata": {},
     "output_type": "display_data"
    }
   ],
   "source": [
    "#plot RMSD of sidechain\n",
    "plt.figure(figsize=(10, 6))\n",
    "data = [1.3107917,1.3093824, 1.3071252, 1.3117588, 1.312007]\n",
    "labels = ['AlphaFold_0', 'AlphaFold_1', 'AlphaFold_2', 'AlphaFold_3', 'AlphaFold_4']\n",
    "plt.bar(labels, data, color='blue')\n"
   ]
  },
  {
   "cell_type": "code",
   "execution_count": null,
   "metadata": {},
   "outputs": [],
   "source": []
  }
 ],
 "metadata": {
  "kernelspec": {
   "display_name": "lab_env",
   "language": "python",
   "name": "lab_env"
  },
  "language_info": {
   "codemirror_mode": {
    "name": "ipython",
    "version": 3
   },
   "file_extension": ".py",
   "mimetype": "text/x-python",
   "name": "python",
   "nbconvert_exporter": "python",
   "pygments_lexer": "ipython3",
   "version": "3.9.12"
  },
  "orig_nbformat": 4
 },
 "nbformat": 4,
 "nbformat_minor": 2
}
